{
 "cells": [
  {
   "cell_type": "markdown",
   "metadata": {},
   "source": [
    "based on th works of : https://stackabuse.com/tensorflow-2-0-solving-classification-and-regression-problems/"
   ]
  },
  {
   "cell_type": "markdown",
   "metadata": {},
   "source": [
    "## Imports"
   ]
  },
  {
   "cell_type": "code",
   "execution_count": 1,
   "metadata": {},
   "outputs": [
    {
     "name": "stdout",
     "output_type": "stream",
     "text": [
      "2.7.0\n"
     ]
    }
   ],
   "source": [
    "import pandas as pd\n",
    "import numpy as np\n",
    "import matplotlib.pyplot as plt\n",
    "\n",
    "from sklearn.model_selection import train_test_split\n",
    "\n",
    "import tensorflow as tf\n",
    "\n",
    "from tensorflow.keras.layers import Input, Dense, Activation,Dropout\n",
    "from tensorflow.keras.models import Model\n",
    "\n",
    "print(tf.__version__)"
   ]
  },
  {
   "cell_type": "markdown",
   "metadata": {},
   "source": [
    "## Import data"
   ]
  },
  {
   "cell_type": "markdown",
   "metadata": {},
   "source": [
    "source data: https://www.kaggle.com/elikplim/car-evaluation-data-set"
   ]
  },
  {
   "cell_type": "markdown",
   "metadata": {},
   "source": [
    "The Car Evaluation Database contains examples with the structural information removed, i.e., directly relates CAR to the six input attributes: buying, maint, doors, persons, lug_boot, safety."
   ]
  },
  {
   "cell_type": "code",
   "execution_count": 2,
   "metadata": {},
   "outputs": [],
   "source": [
    "column_names = ['price', 'maint', 'doors', 'persons', 'lug_capacity', 'safety','output']"
   ]
  },
  {
   "cell_type": "code",
   "execution_count": 3,
   "metadata": {},
   "outputs": [],
   "source": [
    "df_cars = pd.read_csv('/tf/notebooks/data/car_evaluation.csv', names=column_names, header=None)"
   ]
  },
  {
   "cell_type": "code",
   "execution_count": 4,
   "metadata": {},
   "outputs": [
    {
     "data": {
      "text/html": [
       "<div>\n",
       "<style scoped>\n",
       "    .dataframe tbody tr th:only-of-type {\n",
       "        vertical-align: middle;\n",
       "    }\n",
       "\n",
       "    .dataframe tbody tr th {\n",
       "        vertical-align: top;\n",
       "    }\n",
       "\n",
       "    .dataframe thead th {\n",
       "        text-align: right;\n",
       "    }\n",
       "</style>\n",
       "<table border=\"1\" class=\"dataframe\">\n",
       "  <thead>\n",
       "    <tr style=\"text-align: right;\">\n",
       "      <th></th>\n",
       "      <th>price</th>\n",
       "      <th>maint</th>\n",
       "      <th>doors</th>\n",
       "      <th>persons</th>\n",
       "      <th>lug_capacity</th>\n",
       "      <th>safety</th>\n",
       "      <th>output</th>\n",
       "    </tr>\n",
       "  </thead>\n",
       "  <tbody>\n",
       "    <tr>\n",
       "      <th>0</th>\n",
       "      <td>vhigh</td>\n",
       "      <td>vhigh</td>\n",
       "      <td>2</td>\n",
       "      <td>2</td>\n",
       "      <td>small</td>\n",
       "      <td>low</td>\n",
       "      <td>unacc</td>\n",
       "    </tr>\n",
       "    <tr>\n",
       "      <th>1</th>\n",
       "      <td>vhigh</td>\n",
       "      <td>vhigh</td>\n",
       "      <td>2</td>\n",
       "      <td>2</td>\n",
       "      <td>small</td>\n",
       "      <td>med</td>\n",
       "      <td>unacc</td>\n",
       "    </tr>\n",
       "    <tr>\n",
       "      <th>2</th>\n",
       "      <td>vhigh</td>\n",
       "      <td>vhigh</td>\n",
       "      <td>2</td>\n",
       "      <td>2</td>\n",
       "      <td>small</td>\n",
       "      <td>high</td>\n",
       "      <td>unacc</td>\n",
       "    </tr>\n",
       "    <tr>\n",
       "      <th>3</th>\n",
       "      <td>vhigh</td>\n",
       "      <td>vhigh</td>\n",
       "      <td>2</td>\n",
       "      <td>2</td>\n",
       "      <td>med</td>\n",
       "      <td>low</td>\n",
       "      <td>unacc</td>\n",
       "    </tr>\n",
       "    <tr>\n",
       "      <th>4</th>\n",
       "      <td>vhigh</td>\n",
       "      <td>vhigh</td>\n",
       "      <td>2</td>\n",
       "      <td>2</td>\n",
       "      <td>med</td>\n",
       "      <td>med</td>\n",
       "      <td>unacc</td>\n",
       "    </tr>\n",
       "  </tbody>\n",
       "</table>\n",
       "</div>"
      ],
      "text/plain": [
       "   price  maint doors persons lug_capacity safety output\n",
       "0  vhigh  vhigh     2       2        small    low  unacc\n",
       "1  vhigh  vhigh     2       2        small    med  unacc\n",
       "2  vhigh  vhigh     2       2        small   high  unacc\n",
       "3  vhigh  vhigh     2       2          med    low  unacc\n",
       "4  vhigh  vhigh     2       2          med    med  unacc"
      ]
     },
     "execution_count": 4,
     "metadata": {},
     "output_type": "execute_result"
    }
   ],
   "source": [
    "df_cars.head(5)"
   ]
  },
  {
   "cell_type": "code",
   "execution_count": 5,
   "metadata": {},
   "outputs": [
    {
     "data": {
      "text/plain": [
       "(1728, 7)"
      ]
     },
     "execution_count": 5,
     "metadata": {},
     "output_type": "execute_result"
    }
   ],
   "source": [
    "df_cars.shape"
   ]
  },
  {
   "cell_type": "code",
   "execution_count": 6,
   "metadata": {},
   "outputs": [],
   "source": [
    "plot_size = plt.rcParams[\"figure.figsize\"]\n",
    "plot_size [0] = 8\n",
    "plot_size [1] = 6\n",
    "plt.rcParams[\"figure.figsize\"] = plot_size"
   ]
  },
  {
   "cell_type": "code",
   "execution_count": 7,
   "metadata": {},
   "outputs": [
    {
     "data": {
      "text/plain": [
       "<AxesSubplot:ylabel='output'>"
      ]
     },
     "execution_count": 7,
     "metadata": {},
     "output_type": "execute_result"
    }
   ],
   "source": [
    "df_cars.output.value_counts().plot(kind='pie', autopct='%0.01f%%', explode=(0.05, 0.05, 0.05,0.05))"
   ]
  },
  {
   "cell_type": "code",
   "execution_count": 8,
   "metadata": {},
   "outputs": [
    {
     "data": {
      "image/png": "[encoded data removed]",
      "text/plain": [
       "<Figure size 800x600 with 1 Axes>"
      ]
     },
     "metadata": {},
     "output_type": "display_data"
    }
   ],
   "source": [
    "plt.show()"
   ]
  },
  {
   "cell_type": "markdown",
   "metadata": {},
   "source": [
    "## Data tranformation"
   ]
  },
  {
   "cell_type": "code",
   "execution_count": 9,
   "metadata": {},
   "outputs": [],
   "source": [
    "def df_transform(df):\n",
    "    \n",
    "    price = pd.get_dummies(df.price, prefix='price')\n",
    "    maint = pd.get_dummies(df.maint, prefix='maint')\n",
    "    doors = pd.get_dummies(df.doors, prefix='doors')\n",
    "    persons = pd.get_dummies(df.persons, prefix='persons')\n",
    "    lug_capacity = pd.get_dummies(df.lug_capacity, prefix='lug_capacity')\n",
    "    safety = pd.get_dummies(df.safety, prefix='safety')\n",
    "    \n",
    "    labels = pd.get_dummies(df.output, prefix='condition')\n",
    "    \n",
    "    features = pd.concat([price, maint, doors, persons, lug_capacity, safety] , axis=1)\n",
    "    \n",
    "    return (features, labels)"
   ]
  },
  {
   "cell_type": "code",
   "execution_count": 10,
   "metadata": {},
   "outputs": [],
   "source": [
    "df_features, df_labels = df_transform(df_cars)"
   ]
  },
  {
   "cell_type": "code",
   "execution_count": 11,
   "metadata": {},
   "outputs": [
    {
     "data": {
      "text/html": [
       "<div>\n",
       "<style scoped>\n",
       "    .dataframe tbody tr th:only-of-type {\n",
       "        vertical-align: middle;\n",
       "    }\n",
       "\n",
       "    .dataframe tbody tr th {\n",
       "        vertical-align: top;\n",
       "    }\n",
       "\n",
       "    .dataframe thead th {\n",
       "        text-align: right;\n",
       "    }\n",
       "</style>\n",
       "<table border=\"1\" class=\"dataframe\">\n",
       "  <thead>\n",
       "    <tr style=\"text-align: right;\">\n",
       "      <th></th>\n",
       "      <th>price_high</th>\n",
       "      <th>price_low</th>\n",
       "      <th>price_med</th>\n",
       "      <th>price_vhigh</th>\n",
       "      <th>maint_high</th>\n",
       "      <th>maint_low</th>\n",
       "      <th>maint_med</th>\n",
       "      <th>maint_vhigh</th>\n",
       "      <th>doors_2</th>\n",
       "      <th>doors_3</th>\n",
       "      <th>...</th>\n",
       "      <th>doors_5more</th>\n",
       "      <th>persons_2</th>\n",
       "      <th>persons_4</th>\n",
       "      <th>persons_more</th>\n",
       "      <th>lug_capacity_big</th>\n",
       "      <th>lug_capacity_med</th>\n",
       "      <th>lug_capacity_small</th>\n",
       "      <th>safety_high</th>\n",
       "      <th>safety_low</th>\n",
       "      <th>safety_med</th>\n",
       "    </tr>\n",
       "  </thead>\n",
       "  <tbody>\n",
       "    <tr>\n",
       "      <th>0</th>\n",
       "      <td>0</td>\n",
       "      <td>0</td>\n",
       "      <td>0</td>\n",
       "      <td>1</td>\n",
       "      <td>0</td>\n",
       "      <td>0</td>\n",
       "      <td>0</td>\n",
       "      <td>1</td>\n",
       "      <td>1</td>\n",
       "      <td>0</td>\n",
       "      <td>...</td>\n",
       "      <td>0</td>\n",
       "      <td>1</td>\n",
       "      <td>0</td>\n",
       "      <td>0</td>\n",
       "      <td>0</td>\n",
       "      <td>0</td>\n",
       "      <td>1</td>\n",
       "      <td>0</td>\n",
       "      <td>1</td>\n",
       "      <td>0</td>\n",
       "    </tr>\n",
       "    <tr>\n",
       "      <th>1</th>\n",
       "      <td>0</td>\n",
       "      <td>0</td>\n",
       "      <td>0</td>\n",
       "      <td>1</td>\n",
       "      <td>0</td>\n",
       "      <td>0</td>\n",
       "      <td>0</td>\n",
       "      <td>1</td>\n",
       "      <td>1</td>\n",
       "      <td>0</td>\n",
       "      <td>...</td>\n",
       "      <td>0</td>\n",
       "      <td>1</td>\n",
       "      <td>0</td>\n",
       "      <td>0</td>\n",
       "      <td>0</td>\n",
       "      <td>0</td>\n",
       "      <td>1</td>\n",
       "      <td>0</td>\n",
       "      <td>0</td>\n",
       "      <td>1</td>\n",
       "    </tr>\n",
       "    <tr>\n",
       "      <th>2</th>\n",
       "      <td>0</td>\n",
       "      <td>0</td>\n",
       "      <td>0</td>\n",
       "      <td>1</td>\n",
       "      <td>0</td>\n",
       "      <td>0</td>\n",
       "      <td>0</td>\n",
       "      <td>1</td>\n",
       "      <td>1</td>\n",
       "      <td>0</td>\n",
       "      <td>...</td>\n",
       "      <td>0</td>\n",
       "      <td>1</td>\n",
       "      <td>0</td>\n",
       "      <td>0</td>\n",
       "      <td>0</td>\n",
       "      <td>0</td>\n",
       "      <td>1</td>\n",
       "      <td>1</td>\n",
       "      <td>0</td>\n",
       "      <td>0</td>\n",
       "    </tr>\n",
       "    <tr>\n",
       "      <th>3</th>\n",
       "      <td>0</td>\n",
       "      <td>0</td>\n",
       "      <td>0</td>\n",
       "      <td>1</td>\n",
       "      <td>0</td>\n",
       "      <td>0</td>\n",
       "      <td>0</td>\n",
       "      <td>1</td>\n",
       "      <td>1</td>\n",
       "      <td>0</td>\n",
       "      <td>...</td>\n",
       "      <td>0</td>\n",
       "      <td>1</td>\n",
       "      <td>0</td>\n",
       "      <td>0</td>\n",
       "      <td>0</td>\n",
       "      <td>1</td>\n",
       "      <td>0</td>\n",
       "      <td>0</td>\n",
       "      <td>1</td>\n",
       "      <td>0</td>\n",
       "    </tr>\n",
       "    <tr>\n",
       "      <th>4</th>\n",
       "      <td>0</td>\n",
       "      <td>0</td>\n",
       "      <td>0</td>\n",
       "      <td>1</td>\n",
       "      <td>0</td>\n",
       "      <td>0</td>\n",
       "      <td>0</td>\n",
       "      <td>1</td>\n",
       "      <td>1</td>\n",
       "      <td>0</td>\n",
       "      <td>...</td>\n",
       "      <td>0</td>\n",
       "      <td>1</td>\n",
       "      <td>0</td>\n",
       "      <td>0</td>\n",
       "      <td>0</td>\n",
       "      <td>1</td>\n",
       "      <td>0</td>\n",
       "      <td>0</td>\n",
       "      <td>0</td>\n",
       "      <td>1</td>\n",
       "    </tr>\n",
       "  </tbody>\n",
       "</table>\n",
       "<p>5 rows × 21 columns</p>\n",
       "</div>"
      ],
      "text/plain": [
       "   price_high  price_low  price_med  price_vhigh  maint_high  maint_low  \\\n",
       "0           0          0          0            1           0          0   \n",
       "1           0          0          0            1           0          0   \n",
       "2           0          0          0            1           0          0   \n",
       "3           0          0          0            1           0          0   \n",
       "4           0          0          0            1           0          0   \n",
       "\n",
       "   maint_med  maint_vhigh  doors_2  doors_3  ...  doors_5more  persons_2  \\\n",
       "0          0            1        1        0  ...            0          1   \n",
       "1          0            1        1        0  ...            0          1   \n",
       "2          0            1        1        0  ...            0          1   \n",
       "3          0            1        1        0  ...            0          1   \n",
       "4          0            1        1        0  ...            0          1   \n",
       "\n",
       "   persons_4  persons_more  lug_capacity_big  lug_capacity_med  \\\n",
       "0          0             0                 0                 0   \n",
       "1          0             0                 0                 0   \n",
       "2          0             0                 0                 0   \n",
       "3          0             0                 0                 1   \n",
       "4          0             0                 0                 1   \n",
       "\n",
       "   lug_capacity_small  safety_high  safety_low  safety_med  \n",
       "0                   1            0           1           0  \n",
       "1                   1            0           0           1  \n",
       "2                   1            1           0           0  \n",
       "3                   0            0           1           0  \n",
       "4                   0            0           0           1  \n",
       "\n",
       "[5 rows x 21 columns]"
      ]
     },
     "execution_count": 11,
     "metadata": {},
     "output_type": "execute_result"
    }
   ],
   "source": [
    "df_features.head(5)"
   ]
  },
  {
   "cell_type": "code",
   "execution_count": 12,
   "metadata": {},
   "outputs": [
    {
     "data": {
      "text/html": [
       "<div>\n",
       "<style scoped>\n",
       "    .dataframe tbody tr th:only-of-type {\n",
       "        vertical-align: middle;\n",
       "    }\n",
       "\n",
       "    .dataframe tbody tr th {\n",
       "        vertical-align: top;\n",
       "    }\n",
       "\n",
       "    .dataframe thead th {\n",
       "        text-align: right;\n",
       "    }\n",
       "</style>\n",
       "<table border=\"1\" class=\"dataframe\">\n",
       "  <thead>\n",
       "    <tr style=\"text-align: right;\">\n",
       "      <th></th>\n",
       "      <th>condition_acc</th>\n",
       "      <th>condition_good</th>\n",
       "      <th>condition_unacc</th>\n",
       "      <th>condition_vgood</th>\n",
       "    </tr>\n",
       "  </thead>\n",
       "  <tbody>\n",
       "    <tr>\n",
       "      <th>0</th>\n",
       "      <td>0</td>\n",
       "      <td>0</td>\n",
       "      <td>1</td>\n",
       "      <td>0</td>\n",
       "    </tr>\n",
       "    <tr>\n",
       "      <th>1</th>\n",
       "      <td>0</td>\n",
       "      <td>0</td>\n",
       "      <td>1</td>\n",
       "      <td>0</td>\n",
       "    </tr>\n",
       "    <tr>\n",
       "      <th>2</th>\n",
       "      <td>0</td>\n",
       "      <td>0</td>\n",
       "      <td>1</td>\n",
       "      <td>0</td>\n",
       "    </tr>\n",
       "    <tr>\n",
       "      <th>3</th>\n",
       "      <td>0</td>\n",
       "      <td>0</td>\n",
       "      <td>1</td>\n",
       "      <td>0</td>\n",
       "    </tr>\n",
       "    <tr>\n",
       "      <th>4</th>\n",
       "      <td>0</td>\n",
       "      <td>0</td>\n",
       "      <td>1</td>\n",
       "      <td>0</td>\n",
       "    </tr>\n",
       "  </tbody>\n",
       "</table>\n",
       "</div>"
      ],
      "text/plain": [
       "   condition_acc  condition_good  condition_unacc  condition_vgood\n",
       "0              0               0                1                0\n",
       "1              0               0                1                0\n",
       "2              0               0                1                0\n",
       "3              0               0                1                0\n",
       "4              0               0                1                0"
      ]
     },
     "execution_count": 12,
     "metadata": {},
     "output_type": "execute_result"
    }
   ],
   "source": [
    "df_labels.head(5)"
   ]
  },
  {
   "cell_type": "markdown",
   "metadata": {},
   "source": [
    "Let's now convert our labels into a numpy array:"
   ]
  },
  {
   "cell_type": "code",
   "execution_count": 13,
   "metadata": {},
   "outputs": [],
   "source": [
    "labels = df_labels.values"
   ]
  },
  {
   "cell_type": "markdown",
   "metadata": {},
   "source": [
    "## Train test split"
   ]
  },
  {
   "cell_type": "markdown",
   "metadata": {},
   "source": [
    "Now, let's split the dataset into a training set and a test set. We will use the test set in the final evaluation of our model."
   ]
  },
  {
   "cell_type": "code",
   "execution_count": 14,
   "metadata": {},
   "outputs": [],
   "source": [
    "X_train, X_test, y_train, y_test = train_test_split(df_features, labels, test_size=0.20, random_state=42)"
   ]
  },
  {
   "cell_type": "markdown",
   "metadata": {},
   "source": [
    "## Model training"
   ]
  },
  {
   "cell_type": "code",
   "execution_count": 27,
   "metadata": {},
   "outputs": [],
   "source": [
    "def dnn_model(X, y):\n",
    "    \n",
    "    input_layer = Input(shape=(X.shape[1],))\n",
    "    dense_layer_1 = Dense(15, activation='relu')(input_layer)\n",
    "    dense_layer_2 = Dense(10, activation='relu')(dense_layer_1)\n",
    "    output = Dense(y.shape[1], activation='softmax')(dense_layer_2)\n",
    "\n",
    "    model = Model(inputs=input_layer, outputs=output)\n",
    "    model.compile(loss='categorical_crossentropy', optimizer='adam', metrics=[tf.keras.metrics.CategoricalAccuracy()]) \n",
    "    \n",
    "    return (model)"
   ]
  },
  {
   "cell_type": "code",
   "execution_count": 28,
   "metadata": {},
   "outputs": [],
   "source": [
    "model = dnn_model(df_features, labels)"
   ]
  },
  {
   "cell_type": "code",
   "execution_count": 29,
   "metadata": {},
   "outputs": [
    {
     "name": "stdout",
     "output_type": "stream",
     "text": [
      "Model: \"model_2\"\n",
      "_________________________________________________________________\n",
      " Layer (type)                Output Shape              Param #   \n",
      "=================================================================\n",
      " input_3 (InputLayer)        [(None, 21)]              0         \n",
      "                                                                 \n",
      " dense_6 (Dense)             (None, 15)                330       \n",
      "                                                                 \n",
      " dense_7 (Dense)             (None, 10)                160       \n",
      "                                                                 \n",
      " dense_8 (Dense)             (None, 4)                 44        \n",
      "                                                                 \n",
      "=================================================================\n",
      "Total params: 534\n",
      "Trainable params: 534\n",
      "Non-trainable params: 0\n",
      "_________________________________________________________________\n",
      "None\n"
     ]
    }
   ],
   "source": [
    "print(model.summary())"
   ]
  },
  {
   "cell_type": "code",
   "execution_count": 30,
   "metadata": {},
   "outputs": [
    {
     "name": "stdout",
     "output_type": "stream",
     "text": [
      "('You must install pydot (`pip install pydot`) and install graphviz (see instructions at https://graphviz.gitlab.io/download/) ', 'for plot_model/model_to_dot to work.')\n"
     ]
    }
   ],
   "source": [
    "tf.keras.utils.plot_model(model)"
   ]
  },
  {
   "cell_type": "code",
   "execution_count": 31,
   "metadata": {},
   "outputs": [
    {
     "name": "stdout",
     "output_type": "stream",
     "text": [
      "Epoch 1/50\n",
      "139/139 [==============================] - 1s 4ms/step - loss: 0.9500 - recall: 0.4860 - val_loss: 0.8729 - val_recall: 0.6498\n",
      "Epoch 2/50\n",
      "139/139 [==============================] - 0s 3ms/step - loss: 0.6635 - recall: 0.7195 - val_loss: 0.6947 - val_recall: 0.6498\n",
      "Epoch 3/50\n",
      "139/139 [==============================] - 0s 3ms/step - loss: 0.5146 - recall: 0.7158 - val_loss: 0.5633 - val_recall: 0.6895\n",
      "Epoch 4/50\n",
      "139/139 [==============================] - 0s 3ms/step - loss: 0.4136 - recall: 0.7692 - val_loss: 0.4745 - val_recall: 0.7762\n",
      "Epoch 5/50\n",
      "139/139 [==============================] - 0s 3ms/step - loss: 0.3495 - recall: 0.8244 - val_loss: 0.4180 - val_recall: 0.7978\n",
      "Epoch 6/50\n",
      "139/139 [==============================] - 0s 3ms/step - loss: 0.3040 - recall: 0.8697 - val_loss: 0.3671 - val_recall: 0.8231\n",
      "Epoch 7/50\n",
      "139/139 [==============================] - 0s 3ms/step - loss: 0.2635 - recall: 0.8760 - val_loss: 0.3281 - val_recall: 0.8375\n",
      "Epoch 8/50\n",
      "139/139 [==============================] - 0s 3ms/step - loss: 0.2307 - recall: 0.8833 - val_loss: 0.2969 - val_recall: 0.8484\n",
      "Epoch 9/50\n",
      "139/139 [==============================] - 0s 3ms/step - loss: 0.2065 - recall: 0.9032 - val_loss: 0.2800 - val_recall: 0.8520\n",
      "Epoch 10/50\n",
      "139/139 [==============================] - 0s 2ms/step - loss: 0.1852 - recall: 0.9104 - val_loss: 0.2505 - val_recall: 0.8592\n",
      "Epoch 11/50\n",
      "139/139 [==============================] - 0s 3ms/step - loss: 0.1671 - recall: 0.9213 - val_loss: 0.2366 - val_recall: 0.8700\n",
      "Epoch 12/50\n",
      "139/139 [==============================] - 0s 2ms/step - loss: 0.1586 - recall: 0.9231 - val_loss: 0.2200 - val_recall: 0.8881\n",
      "Epoch 13/50\n",
      "139/139 [==============================] - 0s 3ms/step - loss: 0.1427 - recall: 0.9357 - val_loss: 0.2132 - val_recall: 0.8881\n",
      "Epoch 14/50\n",
      "139/139 [==============================] - 0s 3ms/step - loss: 0.1299 - recall: 0.9439 - val_loss: 0.2026 - val_recall: 0.8953\n",
      "Epoch 15/50\n",
      "139/139 [==============================] - 0s 3ms/step - loss: 0.1207 - recall: 0.9538 - val_loss: 0.1937 - val_recall: 0.8989\n",
      "Epoch 16/50\n",
      "139/139 [==============================] - 0s 3ms/step - loss: 0.1158 - recall: 0.9502 - val_loss: 0.1765 - val_recall: 0.9206\n",
      "Epoch 17/50\n",
      "139/139 [==============================] - 0s 2ms/step - loss: 0.1027 - recall: 0.9647 - val_loss: 0.1700 - val_recall: 0.9242\n",
      "Epoch 18/50\n",
      "139/139 [==============================] - 0s 3ms/step - loss: 0.0974 - recall: 0.9665 - val_loss: 0.1704 - val_recall: 0.9314\n",
      "Epoch 19/50\n",
      "139/139 [==============================] - 0s 2ms/step - loss: 0.0925 - recall: 0.9701 - val_loss: 0.1572 - val_recall: 0.9350\n",
      "Epoch 20/50\n",
      "139/139 [==============================] - 0s 2ms/step - loss: 0.0843 - recall: 0.9729 - val_loss: 0.1457 - val_recall: 0.9422\n",
      "Epoch 21/50\n",
      "139/139 [==============================] - 0s 2ms/step - loss: 0.0805 - recall: 0.9738 - val_loss: 0.1369 - val_recall: 0.9422\n",
      "Epoch 22/50\n",
      "139/139 [==============================] - 0s 2ms/step - loss: 0.0744 - recall: 0.9783 - val_loss: 0.1353 - val_recall: 0.9386\n",
      "Epoch 23/50\n",
      "139/139 [==============================] - 0s 2ms/step - loss: 0.0706 - recall: 0.9810 - val_loss: 0.1479 - val_recall: 0.9350\n",
      "Epoch 24/50\n",
      "139/139 [==============================] - 0s 2ms/step - loss: 0.0650 - recall: 0.9846 - val_loss: 0.1329 - val_recall: 0.9386\n",
      "Epoch 25/50\n",
      "139/139 [==============================] - 0s 3ms/step - loss: 0.0652 - recall: 0.9855 - val_loss: 0.1226 - val_recall: 0.9422\n",
      "Epoch 26/50\n",
      "139/139 [==============================] - 0s 3ms/step - loss: 0.0592 - recall: 0.9864 - val_loss: 0.1130 - val_recall: 0.9531\n",
      "Epoch 27/50\n",
      "139/139 [==============================] - 0s 3ms/step - loss: 0.0552 - recall: 0.9873 - val_loss: 0.1208 - val_recall: 0.9386\n",
      "Epoch 28/50\n",
      "139/139 [==============================] - 0s 3ms/step - loss: 0.0536 - recall: 0.9873 - val_loss: 0.1128 - val_recall: 0.9422\n",
      "Epoch 29/50\n",
      "139/139 [==============================] - 0s 3ms/step - loss: 0.0495 - recall: 0.9882 - val_loss: 0.1052 - val_recall: 0.9567\n",
      "Epoch 30/50\n",
      "139/139 [==============================] - 0s 2ms/step - loss: 0.0485 - recall: 0.9891 - val_loss: 0.1143 - val_recall: 0.9422\n",
      "Epoch 31/50\n",
      "139/139 [==============================] - 0s 3ms/step - loss: 0.0440 - recall: 0.9910 - val_loss: 0.0999 - val_recall: 0.9567\n",
      "Epoch 32/50\n",
      "139/139 [==============================] - 0s 3ms/step - loss: 0.0414 - recall: 0.9919 - val_loss: 0.1358 - val_recall: 0.9350\n",
      "Epoch 33/50\n",
      "139/139 [==============================] - 0s 3ms/step - loss: 0.0415 - recall: 0.9891 - val_loss: 0.1098 - val_recall: 0.9386\n",
      "Epoch 34/50\n",
      "139/139 [==============================] - 0s 3ms/step - loss: 0.0391 - recall: 0.9900 - val_loss: 0.1036 - val_recall: 0.9386\n",
      "Epoch 35/50\n",
      "139/139 [==============================] - 0s 3ms/step - loss: 0.0358 - recall: 0.9937 - val_loss: 0.1005 - val_recall: 0.9386\n",
      "Epoch 36/50\n",
      "139/139 [==============================] - 0s 3ms/step - loss: 0.0348 - recall: 0.9910 - val_loss: 0.1070 - val_recall: 0.9386\n",
      "Epoch 37/50\n",
      "139/139 [==============================] - 0s 2ms/step - loss: 0.0311 - recall: 0.9955 - val_loss: 0.0817 - val_recall: 0.9675\n",
      "Epoch 38/50\n",
      "139/139 [==============================] - 0s 3ms/step - loss: 0.0318 - recall: 0.9900 - val_loss: 0.0929 - val_recall: 0.9386\n",
      "Epoch 39/50\n",
      "139/139 [==============================] - 0s 2ms/step - loss: 0.0271 - recall: 0.9964 - val_loss: 0.0942 - val_recall: 0.9386\n",
      "Epoch 40/50\n",
      "139/139 [==============================] - 0s 2ms/step - loss: 0.0272 - recall: 0.9946 - val_loss: 0.0846 - val_recall: 0.9603\n",
      "Epoch 41/50\n",
      "139/139 [==============================] - 0s 3ms/step - loss: 0.0250 - recall: 0.9964 - val_loss: 0.0809 - val_recall: 0.9567\n",
      "Epoch 42/50\n",
      "139/139 [==============================] - 0s 3ms/step - loss: 0.0253 - recall: 0.9946 - val_loss: 0.0813 - val_recall: 0.9531\n",
      "Epoch 43/50\n",
      "139/139 [==============================] - 0s 2ms/step - loss: 0.0230 - recall: 0.9946 - val_loss: 0.0752 - val_recall: 0.9639\n",
      "Epoch 44/50\n",
      "139/139 [==============================] - 0s 2ms/step - loss: 0.0215 - recall: 0.9964 - val_loss: 0.0821 - val_recall: 0.9531\n",
      "Epoch 45/50\n",
      "139/139 [==============================] - 0s 2ms/step - loss: 0.0212 - recall: 0.9973 - val_loss: 0.0776 - val_recall: 0.9603\n",
      "Epoch 46/50\n",
      "139/139 [==============================] - 0s 2ms/step - loss: 0.0196 - recall: 0.9982 - val_loss: 0.0935 - val_recall: 0.9567\n",
      "Epoch 47/50\n",
      "139/139 [==============================] - 0s 2ms/step - loss: 0.0177 - recall: 0.9991 - val_loss: 0.0692 - val_recall: 0.9639\n",
      "Epoch 48/50\n",
      "139/139 [==============================] - 0s 2ms/step - loss: 0.0158 - recall: 0.9991 - val_loss: 0.0777 - val_recall: 0.9675\n",
      "Epoch 49/50\n",
      "139/139 [==============================] - 0s 2ms/step - loss: 0.0154 - recall: 0.9991 - val_loss: 0.0777 - val_recall: 0.9567\n",
      "Epoch 50/50\n",
      "139/139 [==============================] - 0s 2ms/step - loss: 0.0145 - recall: 1.0000 - val_loss: 0.0727 - val_recall: 0.9639\n"
     ]
    }
   ],
   "source": [
    "train_history = model.fit(X_train, y_train, batch_size=8, epochs=50, verbose=1, validation_split=0.2)"
   ]
  },
  {
   "cell_type": "code",
   "execution_count": 33,
   "metadata": {},
   "outputs": [
    {
     "name": "stdout",
     "output_type": "stream",
     "text": [
      "11/11 [==============================] - 0s 2ms/step - loss: 0.0968 - recall: 0.9538\n",
      "Test Score: 0.09678592532873154\n",
      "Test Accuracy: 0.9537572264671326\n"
     ]
    }
   ],
   "source": [
    "score = model.evaluate(X_test, y_test, verbose=1)\n",
    "\n",
    "print(\"Test Score:\", score[0])\n",
    "print(\"Test Accuracy:\", score[1])"
   ]
  }
 ],
 "metadata": {
  "kernelspec": {
   "display_name": "Python 3",
   "language": "python",
   "name": "python3"
  },
  "language_info": {
   "codemirror_mode": {
    "name": "ipython",
    "version": 3
   },
   "file_extension": ".py",
   "mimetype": "text/x-python",
   "name": "python",
   "nbconvert_exporter": "python",
   "pygments_lexer": "ipython3",
   "version": "3.8.10"
  }
 },
 "nbformat": 4,
 "nbformat_minor": 2
}
